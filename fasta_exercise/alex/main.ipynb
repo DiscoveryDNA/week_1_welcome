{
 "cells": [
  {
   "cell_type": "markdown",
   "metadata": {},
   "source": [
    "# Week 1 FASTA Exercise\n",
    "\n",
    "Author: Alex Nakagawa\n",
    "\n",
    "Last Updated: March 5, 2018\n",
    "\n",
    "<a src='http://biopython.org/DIST/docs/tutorial/Tutorial.html#htoc3'>BioPython Tutorial</a>\n",
    "\n",
    "<a src='http://biopython.org/DIST/docs/api/'>BioPython Docs</a>"
   ]
  },
  {
   "cell_type": "code",
   "execution_count": 1,
   "metadata": {
    "ExecuteTime": {
     "end_time": "2018-03-06T07:14:47.596751Z",
     "start_time": "2018-03-06T07:14:45.207661Z"
    }
   },
   "outputs": [],
   "source": [
    "from __future__ import print_function\n",
    "\n",
    "from Bio import SeqIO\n",
    "# from Bio.Alphabet import IUPAC\n",
    "from Bio.SeqUtils import GC\n",
    "import numpy as np\n",
    "import pandas as pd"
   ]
  },
  {
   "cell_type": "markdown",
   "metadata": {},
   "source": [
    "### Reading File"
   ]
  },
  {
   "cell_type": "code",
   "execution_count": 4,
   "metadata": {
    "ExecuteTime": {
     "end_time": "2018-03-06T07:16:32.565485Z",
     "start_time": "2018-03-06T07:16:32.547383Z"
    }
   },
   "outputs": [
    {
     "name": "stdout",
     "output_type": "stream",
     "text": [
      "Original Sequences:\n",
      "Sequence ID:\n",
      " pdm2_neurogenic|MEMB002A|-\n",
      "Sequence:\n",
      " Seq('AAAAACAAAAAACCCATACAAAAACCCCGAAAAACCCGCGCCAAAATGTAAGAA...ATA', SingleLetterAlphabet())\n",
      "Length of sequence:\n",
      " 700\n",
      "\n",
      "\n",
      "Sequence ID:\n",
      " pdm2_neurogenic|MEMB002C|-\n",
      "Sequence:\n",
      " Seq('AAAAACAAAAAACCCATACAAAAACCCCGAAAAAACCGCGCCAAAATATAAGAA...ATA', SingleLetterAlphabet())\n",
      "Length of sequence:\n",
      " 701\n",
      "\n",
      "\n",
      "Sequence ID:\n",
      " pdm2_neurogenic|MEMB002F|-\n",
      "Sequence:\n",
      " Seq('AAGTAAAACCTATACAAAAATCCCGAAAAAATAGCCCGCCAAATTATAAGAAAA...ATA', SingleLetterAlphabet())\n",
      "Length of sequence:\n",
      " 700\n",
      "\n",
      "\n",
      "Sequence ID:\n",
      " pdm2_neurogenic|MEMB003F|-\n",
      "Sequence:\n",
      " Seq('AAACACAAAAAACCAAATACAAAACCCGAAAAAATAACGCGCCAAAATATAAGA...TAT', SingleLetterAlphabet())\n",
      "Length of sequence:\n",
      " 718\n",
      "\n",
      "\n",
      "Sequence ID:\n",
      " pdm2_neurogenic|MEMB002D|+\n",
      "Sequence:\n",
      " Seq('AAACATAAAAAAAAAACACATACAAAAACCCCTGAAAAAATAACGCGCCAAAAT...ATT', SingleLetterAlphabet())\n",
      "Length of sequence:\n",
      " 749\n",
      "\n",
      "\n",
      "Sequence ID:\n",
      " pdm2_neurogenic|MEMB002E|+\n",
      "Sequence:\n",
      " Seq('AAACACAAAAAAAACATATACAAAAAACCCCTTAAAAATAACGCGCTAAAATAT...TTT', SingleLetterAlphabet())\n",
      "Length of sequence:\n",
      " 735\n",
      "\n",
      "\n",
      "Sequence ID:\n",
      " pdm2_neurogenic|MEMB003B|+\n",
      "Sequence:\n",
      " Seq('AAAACACAAAAAAAAAACCTATACAAAAAACCCAGAAAAAATAACGCGCCAAAA...TTT', SingleLetterAlphabet())\n",
      "Length of sequence:\n",
      " 756\n",
      "\n",
      "\n",
      "Sequence ID:\n",
      " pdm2_neurogenic|MEMB003C|+\n",
      "Sequence:\n",
      " Seq('AAAAAATAAAAAAACCCATACAAAATCAACGAAAAAACCGCGCCAAAATATAAG...ATA', SingleLetterAlphabet())\n",
      "Length of sequence:\n",
      " 703\n",
      "\n",
      "\n",
      "Sequence ID:\n",
      " pdm2_neurogenic|MEMB003D|+\n",
      "Sequence:\n",
      " Seq('AAACACAAAGAAAAACCAAAAAAATAACGCGCCAAAATATAAGAAAAGAAACCC...ATT', SingleLetterAlphabet())\n",
      "Length of sequence:\n",
      " 700\n",
      "\n",
      "\n"
     ]
    }
   ],
   "source": [
    "file_name = '../pdm2_neurogenic.fa'\n",
    "\n",
    "print(\"Original Sequences:\")\n",
    "for seq_record in SeqIO.parse(file_name,'fasta'):\n",
    "    print(\"Sequence ID:\\n\", seq_record.id)\n",
    "    print(\"Sequence:\\n\", repr(seq_record.seq))\n",
    "    print(\"Length of sequence:\\n\", len(seq_record))\n",
    "    print(\"\\n\")"
   ]
  },
  {
   "cell_type": "markdown",
   "metadata": {},
   "source": [
    "### Make a sequence alignment"
   ]
  },
  {
   "cell_type": "markdown",
   "metadata": {},
   "source": [
    "### Turn sequences into a basic python / R data structure"
   ]
  },
  {
   "cell_type": "markdown",
   "metadata": {},
   "source": [
    "### Measure GC content per sequence"
   ]
  },
  {
   "cell_type": "code",
   "execution_count": null,
   "metadata": {},
   "outputs": [],
   "source": []
  }
 ],
 "metadata": {
  "kernelspec": {
   "display_name": "Python 2",
   "language": "python",
   "name": "python2"
  },
  "language_info": {
   "codemirror_mode": {
    "name": "ipython",
    "version": 2
   },
   "file_extension": ".py",
   "mimetype": "text/x-python",
   "name": "python",
   "nbconvert_exporter": "python",
   "pygments_lexer": "ipython2",
   "version": "2.7.13"
  }
 },
 "nbformat": 4,
 "nbformat_minor": 2
}
